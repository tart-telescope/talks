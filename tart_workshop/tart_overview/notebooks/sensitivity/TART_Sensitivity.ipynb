{
 "cells": [
  {
   "cell_type": "code",
   "execution_count": 12,
   "id": "3a1ad3c3",
   "metadata": {},
   "outputs": [],
   "source": [
    "import numpy as np\n",
    "\n",
    "EIRP=80\n",
    "bandwidth = 2.5e6\n",
    "distance = 21000e3"
   ]
  },
  {
   "cell_type": "code",
   "execution_count": 13,
   "id": "85a10a0f",
   "metadata": {},
   "outputs": [
    {
     "data": {
      "text/plain": [
       "6.366197723675814e-14"
      ]
     },
     "execution_count": 13,
     "metadata": {},
     "output_type": "execute_result"
    }
   ],
   "source": [
    "area = np.pi*range**2\n",
    "irradiance = EIRP/area\n",
    "irradiance"
   ]
  },
  {
   "cell_type": "code",
   "execution_count": 14,
   "id": "f451046e",
   "metadata": {},
   "outputs": [
    {
     "data": {
      "text/plain": [
       "2.5464790894703256e-20"
      ]
     },
     "execution_count": 14,
     "metadata": {},
     "output_type": "execute_result"
    }
   ],
   "source": [
    "spectral_flux_density = irradiance/bandwidth\n",
    "spectral_flux_density"
   ]
  },
  {
   "cell_type": "code",
   "execution_count": 15,
   "id": "d9fd5d51",
   "metadata": {},
   "outputs": [
    {
     "data": {
      "text/plain": [
       "2546479.0894703255"
      ]
     },
     "execution_count": 15,
     "metadata": {},
     "output_type": "execute_result"
    }
   ],
   "source": [
    "flux_jy = spectral_flux_density / 1e-26\n",
    "flux_jy"
   ]
  },
  {
   "cell_type": "markdown",
   "id": "4916ce4d",
   "metadata": {},
   "source": [
    "## Alternative approach\n",
    "\n",
    "Using the expression of -160 dbW is the received L1C signal. \n",
    "\n",
    "See [here](https://www.e-education.psu.edu/geog862/node/1861)"
   ]
  },
  {
   "cell_type": "code",
   "execution_count": 38,
   "id": "5a110703",
   "metadata": {},
   "outputs": [],
   "source": [
    "dbW = -150\n",
    "\n",
    "dbWHz = dbW - 63.3"
   ]
  },
  {
   "cell_type": "code",
   "execution_count": 39,
   "id": "14aff74e",
   "metadata": {},
   "outputs": [
    {
     "data": {
      "text/plain": [
       "4.677351412871962e-22"
      ]
     },
     "execution_count": 39,
     "metadata": {},
     "output_type": "execute_result"
    }
   ],
   "source": [
    "WHz = 10**(dbWHz/10)   # dB = 10(log_10(x)) -> x = 10^(dB/10)\n",
    "WHz"
   ]
  },
  {
   "cell_type": "code",
   "execution_count": 40,
   "id": "83a2d8b6",
   "metadata": {},
   "outputs": [
    {
     "data": {
      "text/plain": [
       "46773.51412871962"
      ]
     },
     "execution_count": 40,
     "metadata": {},
     "output_type": "execute_result"
    }
   ],
   "source": [
    "WHz / 1e-26"
   ]
  },
  {
   "cell_type": "code",
   "execution_count": null,
   "id": "975174c3",
   "metadata": {},
   "outputs": [],
   "source": []
  }
 ],
 "metadata": {
  "kernelspec": {
   "display_name": "Python 3 (ipykernel)",
   "language": "python",
   "name": "python3"
  },
  "language_info": {
   "codemirror_mode": {
    "name": "ipython",
    "version": 3
   },
   "file_extension": ".py",
   "mimetype": "text/x-python",
   "name": "python",
   "nbconvert_exporter": "python",
   "pygments_lexer": "ipython3",
   "version": "3.12.8"
  }
 },
 "nbformat": 4,
 "nbformat_minor": 5
}
